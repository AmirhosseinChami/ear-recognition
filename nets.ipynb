{
 "cells": [
  {
   "cell_type": "markdown",
   "id": "1b27c507-041e-4cd0-8204-9f50b9f6d8ae",
   "metadata": {},
   "source": [
    "# this is nets file"
   ]
  },
  {
   "cell_type": "code",
   "execution_count": 1,
   "id": "c96a6f4d-e76c-4e67-aaed-d7c36e98d851",
   "metadata": {},
   "outputs": [],
   "source": [
    "import torch\n",
    "import torch.nn as nn\n",
    "\n",
    "def vgg_block_single(in_ch, out_ch, kernel_size=3, padding=1):\n",
    "    return nn.Sequential(\n",
    "        nn.Conv2d(in_ch, out_ch, kernel_size=kernel_size, padding=padding),\n",
    "        nn.ReLU(),\n",
    "        nn.MaxPool2d(kernel_size=2, stride=2)\n",
    "        ) \n",
    "    \n",
    "def vgg_block_double(in_ch, out_ch, kernel_size=3, padding=1):\n",
    "    return nn.Sequential(\n",
    "        nn.Conv2d(in_ch, out_ch, kernel_size=kernel_size, padding=padding),\n",
    "        nn.ReLU(),\n",
    "        nn.Conv2d(out_ch, out_ch, kernel_size=kernel_size, padding=padding),\n",
    "        nn.ReLU(),\n",
    "        nn.MaxPool2d(kernel_size=2, stride=2)\n",
    "        )\n",
    "\n",
    "\n",
    "class MyVGG11(nn.Module):\n",
    "    def __init__(self, in_ch, num_classes):\n",
    "        super().__init__()\n",
    "\n",
    "        self.conv_block1 =vgg_block_single(in_ch,64)\n",
    "        self.conv_block2 =vgg_block_single(64,128)\n",
    "\n",
    "        self.conv_block3 =vgg_block_double(128,256)\n",
    "        self.conv_block4 =vgg_block_double(256,512)\n",
    "        self.conv_block5 =vgg_block_double(512,512)\n",
    "\n",
    "        self.fc_layers = nn.Sequential(\n",
    "            nn.Linear(512 * 7 * 7, 4096), nn.ReLU(inplace=True), nn.Dropout(),\n",
    "            nn.Linear(4096, 4096), nn.ReLU(inplace=True), nn.Dropout(),\n",
    "            nn.Linear(4096, num_classes)\n",
    "        )\n",
    "\n",
    "    def forward(self, x):\n",
    "        \n",
    "        x=self.conv_block1(x)\n",
    "        x=self.conv_block2(x)\n",
    "\n",
    "        x=self.conv_block3(x)\n",
    "        x=self.conv_block4(x)\n",
    "        x=self.conv_block5(x)\n",
    "\n",
    "        x=x.view(x.size(0), -1)\n",
    "\n",
    "        x=self.fc_layers(x)\n",
    "\n",
    "        return x\n"
   ]
  },
  {
   "cell_type": "code",
   "execution_count": null,
   "id": "e243ca70-1d17-4da4-8038-d38f6587e9aa",
   "metadata": {},
   "outputs": [],
   "source": []
  }
 ],
 "metadata": {
  "kernelspec": {
   "display_name": "Python 3 (ipykernel)",
   "language": "python",
   "name": "python3"
  },
  "language_info": {
   "codemirror_mode": {
    "name": "ipython",
    "version": 3
   },
   "file_extension": ".py",
   "mimetype": "text/x-python",
   "name": "python",
   "nbconvert_exporter": "python",
   "pygments_lexer": "ipython3",
   "version": "3.12.3"
  }
 },
 "nbformat": 4,
 "nbformat_minor": 5
}

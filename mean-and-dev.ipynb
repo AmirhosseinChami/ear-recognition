{
 "cells": [
  {
   "cell_type": "markdown",
   "id": "5dacf2fa-0296-47ca-ae58-7109b41219bb",
   "metadata": {},
   "source": [
    "# this file is for calculating the mean and std deviation"
   ]
  },
  {
   "cell_type": "code",
   "execution_count": null,
   "id": "2fb4eec2-168e-4457-a95e-223df429c882",
   "metadata": {},
   "outputs": [],
   "source": [
    "import numpy as np\n",
    "import torch\n",
    "from torchvision import datasets, transforms\n",
    "\n",
    "# Define the transform to resize images and convert them to tensors\n",
    "transform = transforms.Compose([\n",
    "    transforms.Resize((256, 256)),  # Resize all images to 256x256\n",
    "    transforms.ToTensor()\n",
    "])\n",
    "\n",
    "# Load the dataset\n",
    "train_directory = r'path to train'\n",
    "dataset = datasets.ImageFolder(root=train_directory, transform=transform)\n",
    "dataloader = torch.utils.data.DataLoader(dataset, batch_size=64, shuffle=True, num_workers=4)\n",
    "\n",
    "# Function to calculate mean and std\n",
    "def calculate_mean_std(loader):\n",
    "    mean = 0.0\n",
    "    std = 0.0\n",
    "    total_images_count = 0\n",
    "\n",
    "    for images, _ in loader:\n",
    "        batch_samples = images.size(0)  # batch size (the last batch can have smaller size)\n",
    "        images = images.view(batch_samples, images.size(1), -1)  # reshape to (batch_size, channels, height*width)\n",
    "        mean += images.mean(2).sum(0)  # sum the mean per channel\n",
    "        std += images.std(2).sum(0)  # sum the std per channel\n",
    "        total_images_count += batch_samples\n",
    "\n",
    "    mean /= total_images_count\n",
    "    std /= total_images_count\n",
    "    return mean, std\n",
    "\n",
    "# Calculate mean and std\n",
    "mean, std = calculate_mean_std(dataloader)\n",
    "print(f\"Mean: {mean}\")\n",
    "print(f\"Std: {std}\")\n"
   ]
  },
  {
   "cell_type": "code",
   "execution_count": null,
   "id": "9cacbd4e-5d13-4044-a2b1-81dbd816c3c7",
   "metadata": {},
   "outputs": [],
   "source": []
  }
 ],
 "metadata": {
  "kernelspec": {
   "display_name": "Python 3 (ipykernel)",
   "language": "python",
   "name": "python3"
  },
  "language_info": {
   "codemirror_mode": {
    "name": "ipython",
    "version": 3
   },
   "file_extension": ".py",
   "mimetype": "text/x-python",
   "name": "python",
   "nbconvert_exporter": "python",
   "pygments_lexer": "ipython3",
   "version": "3.12.3"
  }
 },
 "nbformat": 4,
 "nbformat_minor": 5
}
